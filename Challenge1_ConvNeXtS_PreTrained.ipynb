{
 "cells": [
  {
   "cell_type": "markdown",
   "metadata": {
    "id": "w-ZOSPQKR3UP"
   },
   "source": [
    "#### Imports"
   ]
  },
  {
   "cell_type": "code",
   "execution_count": null,
   "metadata": {
    "colab": {
     "base_uri": "https://localhost:8080/"
    },
    "executionInfo": {
     "elapsed": 36099,
     "status": "ok",
     "timestamp": 1699950051038,
     "user": {
      "displayName": "Simone Garbazio",
      "userId": "12530236119643894930"
     },
     "user_tz": -60
    },
    "id": "RXzDmKLJySU9",
    "outputId": "2ebe91fc-6311-4cb3-ad91-e106a3b91385"
   },
   "outputs": [
    {
     "name": "stdout",
     "output_type": "stream",
     "text": [
      "Mounted at /gdrive\n",
      "/gdrive/My Drive/ANN&DL Challenges/DataSet\n"
     ]
    }
   ],
   "source": [
    "# Mount Google Drive to access datasets stored in Google Drive\n",
    "# This is specific to Google Colab environment\n",
    "from google.colab import drive\n",
    "drive.mount('/gdrive', force_remount=True)\n",
    "\n",
    "# Navigate to the dataset directory in Google Drive\n",
    "%cd /gdrive/My Drive/DataSet"
   ]
  },
  {
   "cell_type": "code",
   "execution_count": null,
   "metadata": {
    "executionInfo": {
     "elapsed": 10,
     "status": "ok",
     "timestamp": 1699950051039,
     "user": {
      "displayName": "Simone Garbazio",
      "userId": "12530236119643894930"
     },
     "user_tz": -60
    },
    "id": "f_sOaV1Y8NsL"
   },
   "outputs": [],
   "source": [
    "# Fix randomness and hide warnings for reproducible results\n",
    "seed = 42\n",
    "\n",
    "import os\n",
    "# Suppress TensorFlow logging messages (only show errors)\n",
    "os.environ['TF_CPP_MIN_LOG_LEVEL'] = '3'\n",
    "# Set Python hash seed for deterministic behavior\n",
    "os.environ['PYTHONHASHSEED'] = str(seed)\n",
    "# Set matplotlib configuration directory to current working directory\n",
    "os.environ['MPLCONFIGDIR'] = os.getcwd()+'/configs/'\n",
    "\n",
    "# Suppress warning messages to clean up output\n",
    "import warnings\n",
    "warnings.simplefilter(action='ignore', category=FutureWarning)\n",
    "warnings.simplefilter(action='ignore', category=Warning)\n",
    "\n",
    "# Set numpy random seed for reproducible random number generation\n",
    "import numpy as np\n",
    "np.random.seed(seed)\n",
    "\n",
    "import logging\n",
    "\n",
    "# Set random seed for Python's built-in random module\n",
    "import random\n",
    "random.seed(seed)"
   ]
  },
  {
   "cell_type": "code",
   "execution_count": null,
   "metadata": {
    "colab": {
     "base_uri": "https://localhost:8080/"
    },
    "executionInfo": {
     "elapsed": 3169,
     "status": "ok",
     "timestamp": 1699950054201,
     "user": {
      "displayName": "Simone Garbazio",
      "userId": "12530236119643894930"
     },
     "user_tz": -60
    },
    "id": "0PCgUf-UXRrb",
    "outputId": "69d7f291-a1e7-46c7-a22e-a1402dc5c7b2"
   },
   "outputs": [
    {
     "name": "stdout",
     "output_type": "stream",
     "text": [
      "2.14.0\n"
     ]
    }
   ],
   "source": [
    "# Import TensorFlow and Keras for deep learning\n",
    "import tensorflow as tf\n",
    "from tensorflow import keras as tfk\n",
    "from keras import layers as tfkl\n",
    "# Import preprocessing function (though it's for MobileNet, not used later)\n",
    "from keras.applications.mobilenet import preprocess_input\n",
    "\n",
    "# Configure TensorFlow logging and random seeds for reproducibility\n",
    "tf.autograph.set_verbosity(0)  # Suppress autograph messages\n",
    "tf.get_logger().setLevel(logging.ERROR)  # Only show errors\n",
    "tf.compat.v1.logging.set_verbosity(tf.compat.v1.logging.ERROR)  # Legacy logging\n",
    "tf.random.set_seed(seed)  # Set TensorFlow random seed\n",
    "tf.compat.v1.set_random_seed(seed)  # Set legacy TensorFlow random seed\n",
    "\n",
    "# Print TensorFlow version for reference\n",
    "print(tf.__version__)"
   ]
  },
  {
   "cell_type": "code",
   "execution_count": null,
   "metadata": {
    "executionInfo": {
     "elapsed": 1221,
     "status": "ok",
     "timestamp": 1699950055413,
     "user": {
      "displayName": "Simone Garbazio",
      "userId": "12530236119643894930"
     },
     "user_tz": -60
    },
    "id": "aXMgQLEPXhnO"
   },
   "outputs": [],
   "source": [
    "# Import libraries for data manipulation and analysis\n",
    "import pandas as pd  # Data manipulation and analysis\n",
    "import cv2  # Computer vision operations (if needed)\n",
    "\n",
    "# Import visualization libraries\n",
    "import matplotlib as mpl\n",
    "import matplotlib.pyplot as plt\n",
    "plt.rc('font', size=16)  # Set default font size for plots\n",
    "import seaborn as sns  # Statistical data visualization\n",
    "\n",
    "# Import machine learning utilities\n",
    "from sklearn.preprocessing import OneHotEncoder  # For categorical encoding\n",
    "from sklearn.model_selection import train_test_split, KFold  # Data splitting and cross-validation\n",
    "from sklearn.metrics import mean_squared_error  # Regression metrics\n",
    "# Import classification metrics for model evaluation\n",
    "from sklearn.metrics import accuracy_score, f1_score, precision_score, recall_score, confusion_matrix"
   ]
  },
  {
   "cell_type": "markdown",
   "metadata": {
    "id": "JXtLfgsNWBIc"
   },
   "source": [
    "#### Load data"
   ]
  },
  {
   "cell_type": "code",
   "execution_count": null,
   "metadata": {
    "colab": {
     "base_uri": "https://localhost:8080/"
    },
    "executionInfo": {
     "elapsed": 1062,
     "status": "ok",
     "timestamp": 1699950056469,
     "user": {
      "displayName": "Simone Garbazio",
      "userId": "12530236119643894930"
     },
     "user_tz": -60
    },
    "id": "anSgSRxtChqT",
    "outputId": "a00315c2-2623-4f49-af8a-91bdd08e44b3"
   },
   "outputs": [
    {
     "data": {
      "text/plain": [
       "['data', 'labels']"
      ]
     },
     "execution_count": 5,
     "metadata": {},
     "output_type": "execute_result"
    }
   ],
   "source": [
    "# Load the balanced dataset from a compressed numpy file\n",
    "# allow_pickle=True is needed to load arrays containing Python objects\n",
    "data = np.load('Balanced_data_final.npz', allow_pickle=True)\n",
    "\n",
    "# Display the keys/arrays available in the loaded file\n",
    "data.files"
   ]
  },
  {
   "cell_type": "code",
   "execution_count": null,
   "metadata": {
    "colab": {
     "base_uri": "https://localhost:8080/"
    },
    "executionInfo": {
     "elapsed": 7212,
     "status": "ok",
     "timestamp": 1699950063669,
     "user": {
      "displayName": "Simone Garbazio",
      "userId": "12530236119643894930"
     },
     "user_tz": -60
    },
    "id": "SO4YnyTLD9XG",
    "outputId": "ae002104-b8d0-41e2-c5a0-5ec9db1e5f7c"
   },
   "outputs": [
    {
     "name": "stdout",
     "output_type": "stream",
     "text": [
      "6120\n"
     ]
    }
   ],
   "source": [
    "# Extract image data and labels from the loaded dataset\n",
    "image_data = data['data']    # Image arrays\n",
    "labels_data = data['labels'] # Corresponding labels\n",
    "\n",
    "# Print the total number of images in the dataset\n",
    "print(len(image_data))"
   ]
  },
  {
   "cell_type": "code",
   "execution_count": null,
   "metadata": {
    "colab": {
     "base_uri": "https://localhost:8080/"
    },
    "executionInfo": {
     "elapsed": 44,
     "status": "ok",
     "timestamp": 1699950063670,
     "user": {
      "displayName": "Simone Garbazio",
      "userId": "12530236119643894930"
     },
     "user_tz": -60
    },
    "id": "kOl-shM1YT6s",
    "outputId": "c671911d-2b47-4c40-9e6c-09c7b7e2b741"
   },
   "outputs": [
    {
     "name": "stdout",
     "output_type": "stream",
     "text": [
      "Target labels: ['healthy' 'unhealthy']\n",
      "healthy has 3060 samples\n",
      "unhealthy has 3060 samples\n"
     ]
    }
   ],
   "source": [
    "# Analyze the distribution of labels in the dataset\n",
    "# Find unique values and their counts in the labels\n",
    "unique, count = np.unique(labels_data, return_counts=True)\n",
    "\n",
    "# Print unique values and their corresponding sample counts\n",
    "# This helps understand class balance in the dataset\n",
    "print('Target labels:',unique)\n",
    "for i,u in enumerate(unique):\n",
    "    print(f'{unique[i]} has {count[i]} samples')"
   ]
  },
  {
   "cell_type": "markdown",
   "metadata": {
    "id": "CfF6NbDsR7uy"
   },
   "source": [
    "#### Train, Validation and Test set"
   ]
  },
  {
   "cell_type": "code",
   "execution_count": null,
   "metadata": {
    "executionInfo": {
     "elapsed": 386,
     "status": "ok",
     "timestamp": 1699950064017,
     "user": {
      "displayName": "Simone Garbazio",
      "userId": "12530236119643894930"
     },
     "user_tz": -60
    },
    "id": "AeyRco2WbzPw"
   },
   "outputs": [],
   "source": [
    "# Split the dataset into training, validation, and test sets\n",
    "# Use stratified sampling to maintain class distribution across splits\n",
    "\n",
    "# First split: separate test set (10% of total data)\n",
    "X_train_val, X_test, y_train_val, y_test = train_test_split(\n",
    "    image_data,     # Input samples (images)\n",
    "    labels_data,    # Target labels\n",
    "    test_size = 0.1,        # 10% for testing\n",
    "    random_state=seed,      # For reproducible splits\n",
    "    stratify = labels_data  # Maintain class proportions\n",
    ")\n",
    "\n",
    "# Second split: divide remaining data into training and validation sets\n",
    "# Validation set size matches test set size for fair comparison\n",
    "X_train, X_val, y_train, y_val = train_test_split(\n",
    "    X_train_val,    # Remaining 90% of data\n",
    "    y_train_val,    # Remaining labels\n",
    "    test_size = len(X_test),    # Ensure validation set size matches test set size\n",
    "    random_state=seed,          # For reproducible splits\n",
    "    stratify = y_train_val      # Maintain class proportions\n",
    ")"
   ]
  },
  {
   "cell_type": "markdown",
   "metadata": {
    "id": "PMlKvTWlZcgq"
   },
   "source": [
    "#### Inspection"
   ]
  },
  {
   "cell_type": "markdown",
   "metadata": {
    "id": "p1pc6jDZasOw"
   },
   "source": [
    "The training set is a 4D array with 4680 elements, where each element is a 96x96 image with 3 color channels. The channel is already included so no need of expanding."
   ]
  },
  {
   "cell_type": "code",
   "execution_count": null,
   "metadata": {
    "colab": {
     "base_uri": "https://localhost:8080/"
    },
    "executionInfo": {
     "elapsed": 13,
     "status": "ok",
     "timestamp": 1699950064017,
     "user": {
      "displayName": "Simone Garbazio",
      "userId": "12530236119643894930"
     },
     "user_tz": -60
    },
    "id": "_AlDp8yqZgLZ",
    "outputId": "e0660557-a791-4dc1-8978-a42d8c003a67"
   },
   "outputs": [
    {
     "name": "stdout",
     "output_type": "stream",
     "text": [
      "Training set data and label shape: (4896, 96, 96, 3) (4896,)\n",
      "Validation set data and label shape: (612, 96, 96, 3) (612,)\n",
      "Test set data and label shape: (612, 96, 96, 3) (612,)\n"
     ]
    }
   ],
   "source": [
    "# Inspect the shapes of training, validation, and test sets\n",
    "# This helps verify the split was successful and understand data dimensions\n",
    "print(\"Training set data and label shape:\", X_train.shape, y_train.shape)\n",
    "print(\"Validation set data and label shape:\", X_val.shape, y_val.shape)\n",
    "print(\"Test set data and label shape:\", X_test.shape, y_test.shape)"
   ]
  },
  {
   "cell_type": "code",
   "execution_count": null,
   "metadata": {
    "executionInfo": {
     "elapsed": 12,
     "status": "ok",
     "timestamp": 1699950064018,
     "user": {
      "displayName": "Simone Garbazio",
      "userId": "12530236119643894930"
     },
     "user_tz": -60
    },
    "id": "j4ponRzs_KKY"
   },
   "outputs": [],
   "source": [
    "# Convert string labels to integer labels for binary classification\n",
    "# 'healthy' -> 0, any other label (presumably 'unhealthy') -> 1\n",
    "y_train = np.where(y_train == 'healthy',0,1)\n",
    "y_val = np.where(y_val == 'healthy',0,1)\n",
    "y_test = np.where(y_test == 'healthy',0,1)"
   ]
  },
  {
   "cell_type": "markdown",
   "metadata": {
    "id": "REECUcI8ck_0"
   },
   "source": [
    "Labels instead must be oved from (x,0) to (x,1)"
   ]
  },
  {
   "cell_type": "code",
   "execution_count": null,
   "metadata": {
    "colab": {
     "base_uri": "https://localhost:8080/"
    },
    "executionInfo": {
     "elapsed": 11,
     "status": "ok",
     "timestamp": 1699950064018,
     "user": {
      "displayName": "Simone Garbazio",
      "userId": "12530236119643894930"
     },
     "user_tz": -60
    },
    "id": "7bxf8AW8cuu2",
    "outputId": "074a8008-d066-4611-c620-3f8f8b347e85"
   },
   "outputs": [
    {
     "name": "stdout",
     "output_type": "stream",
     "text": [
      "New labels shape (train, val, test): (4896, 1) (612, 1) (612, 1)\n"
     ]
    }
   ],
   "source": [
    "# Expand label dimensions from (n,) to (n,1) for compatibility with Keras\n",
    "# This is required for proper tensor operations and one-hot encoding\n",
    "y_train = np.expand_dims(y_train, axis=-1)\n",
    "y_val = np.expand_dims(y_val, axis=-1)\n",
    "y_test = np.expand_dims(y_test, axis=-1)\n",
    "\n",
    "# Verify the new shape of labels\n",
    "print(\"New labels shape (train, val, test):\", y_train.shape, y_val.shape, y_test.shape)"
   ]
  },
  {
   "cell_type": "code",
   "execution_count": null,
   "metadata": {
    "colab": {
     "base_uri": "https://localhost:8080/"
    },
    "executionInfo": {
     "elapsed": 9,
     "status": "ok",
     "timestamp": 1699950064019,
     "user": {
      "displayName": "Simone Garbazio",
      "userId": "12530236119643894930"
     },
     "user_tz": -60
    },
    "id": "r8ThhEeTdLDo",
    "outputId": "50ae7545-aa3a-46dc-a1ee-d64e3902b208"
   },
   "outputs": [
    {
     "name": "stdout",
     "output_type": "stream",
     "text": [
      "Check occurrences distribution over the 3 sets classes:\n",
      "0    2448\n",
      "1    2448\n",
      "Name: class, dtype: int64\n",
      "0    306\n",
      "1    306\n",
      "Name: class, dtype: int64\n",
      "1    306\n",
      "0    306\n",
      "Name: class, dtype: int64\n"
     ]
    }
   ],
   "source": [
    "# Verify class distribution across all three sets\n",
    "# This ensures stratified splitting maintained balanced classes\n",
    "print('Check occurrences distribution over the 3 sets classes:')\n",
    "print(pd.DataFrame(y_train, columns=['class'])['class'].value_counts())\n",
    "print(pd.DataFrame(y_val, columns=['class'])['class'].value_counts())\n",
    "print(pd.DataFrame(y_test, columns=['class'])['class'].value_counts())"
   ]
  },
  {
   "cell_type": "markdown",
   "metadata": {
    "id": "F7UXrHAueYLt"
   },
   "source": [
    "#### Processing"
   ]
  },
  {
   "cell_type": "code",
   "execution_count": null,
   "metadata": {
    "executionInfo": {
     "elapsed": 305,
     "status": "ok",
     "timestamp": 1699950177185,
     "user": {
      "displayName": "Simone Garbazio",
      "userId": "12530236119643894930"
     },
     "user_tz": -60
    },
    "id": "0l668uOSePv6"
   },
   "outputs": [],
   "source": [
    "# Normalize image data using ConvNeXt-specific preprocessing\n",
    "# This applies the same normalization used during ConvNeXt training on ImageNet\n",
    "# Typically scales pixel values and applies mean/std normalization\n",
    "X_train = tf.keras.applications.convnext.preprocess_input(X_train, data_format=None)\n",
    "X_val = tf.keras.applications.convnext.preprocess_input(X_val, data_format=None)\n",
    "X_test = tf.keras.applications.convnext.preprocess_input(X_test, data_format=None)"
   ]
  },
  {
   "cell_type": "code",
   "execution_count": null,
   "metadata": {
    "executionInfo": {
     "elapsed": 244,
     "status": "ok",
     "timestamp": 1699950200143,
     "user": {
      "displayName": "Simone Garbazio",
      "userId": "12530236119643894930"
     },
     "user_tz": -60
    },
    "id": "AorKTfNDed7b"
   },
   "outputs": [],
   "source": [
    "# Convert integer labels to one-hot encoded categorical format\n",
    "# This is required for multi-class classification with categorical crossentropy\n",
    "# Each label becomes a vector: [1,0] for class 0, [0,1] for class 1\n",
    "y_train = tfk.utils.to_categorical(y_train, len(np.unique(y_train)))\n",
    "y_val = tfk.utils.to_categorical(y_val, len(np.unique(y_val)))\n",
    "y_test = tfk.utils.to_categorical(y_test, len(np.unique(y_test)))"
   ]
  },
  {
   "cell_type": "code",
   "execution_count": null,
   "metadata": {
    "executionInfo": {
     "elapsed": 11,
     "status": "ok",
     "timestamp": 1699950200391,
     "user": {
      "displayName": "Simone Garbazio",
      "userId": "12530236119643894930"
     },
     "user_tz": -60
    },
    "id": "3Tx-3fGCAhR8"
   },
   "outputs": [],
   "source": [
    "# Define key model parameters and training hyperparameters\n",
    "input_shape = X_train.shape[1:]  # Input shape for the model (height, width, channels)\n",
    "output_shape = y_train.shape[1]  # Output shape for the model (number of classes)\n",
    "batch_size = 32    # Number of samples processed before model weights are updated\n",
    "epochs = 200       # Number of complete passes through the training dataset\n",
    "learning_rate = 1e-4  # Step size for gradient descent optimization"
   ]
  },
  {
   "cell_type": "code",
   "execution_count": null,
   "metadata": {
    "colab": {
     "base_uri": "https://localhost:8080/"
    },
    "executionInfo": {
     "elapsed": 11,
     "status": "ok",
     "timestamp": 1699950200392,
     "user": {
      "displayName": "Simone Garbazio",
      "userId": "12530236119643894930"
     },
     "user_tz": -60
    },
    "id": "cnHeF9EsBah1",
    "outputId": "82197b3d-863e-451f-875e-fe508ad4ed2c"
   },
   "outputs": [
    {
     "name": "stdout",
     "output_type": "stream",
     "text": [
      "Epochs: 200\n",
      "Batch Size: 32\n",
      "Input Shape: (96, 96, 3)\n",
      "Output Shape: 2\n",
      "Learning rate: 0.0001\n"
     ]
    }
   ],
   "source": [
    "# Print summary of all model parameters for reference\n",
    "# This helps track the configuration used for this experiment\n",
    "print(\"Epochs:\", epochs)\n",
    "print(\"Batch Size:\", batch_size)\n",
    "print(\"Input Shape:\", input_shape)\n",
    "print(\"Output Shape:\", output_shape)\n",
    "print(\"Learning rate:\", learning_rate)"
   ]
  },
  {
   "cell_type": "markdown",
   "metadata": {
    "id": "8kczf9dzCVtU"
   },
   "source": [
    "### Build the model"
   ]
  },
  {
   "cell_type": "code",
   "execution_count": null,
   "metadata": {
    "executionInfo": {
     "elapsed": 252,
     "status": "ok",
     "timestamp": 1699957784430,
     "user": {
      "displayName": "Simone Garbazio",
      "userId": "12530236119643894930"
     },
     "user_tz": -60
    },
    "id": "CBFQe_dEuyat"
   },
   "outputs": [],
   "source": [
    "import keras\n",
    "from keras import layers\n",
    "\n",
    "def build_ConvNeXtS(input_shape, seed=seed):\n",
    "    \"\"\"\n",
    "    Build a ConvNeXt Small model for binary classification using transfer learning.\n",
    "    \n",
    "    Args:\n",
    "        input_shape: Shape of input images (height, width, channels)\n",
    "        seed: Random seed for reproducibility\n",
    "    \n",
    "    Returns:\n",
    "        model: Complete Keras model ready for training\n",
    "        base_model: Pre-trained ConvNeXt base model for fine-tuning control\n",
    "    \"\"\"\n",
    "    \n",
    "    # Load pre-trained ConvNeXt Small model from ImageNet\n",
    "    # Note: Input shape is set to (32,32,3) which differs from input_shape parameter\n",
    "    # This might need adjustment based on actual image dimensions\n",
    "    base_model = keras.applications.ConvNeXtSmall(\n",
    "        weights = \"imagenet\",        # Use ImageNet pre-trained weights\n",
    "        input_shape = (32,32,3),     # Expected input shape for ConvNeXt\n",
    "        include_top = False          # Exclude the final classification layer\n",
    "    )\n",
    "\n",
    "    # Define data augmentation pipeline to improve generalization\n",
    "    # These transformations help the model become more robust to variations\n",
    "    data_augmentation = keras.Sequential(\n",
    "        [\n",
    "            layers.RandomFlip(\"horizontal_and_vertical\", seed=seed),  # Random flipping\n",
    "            # layers.RandomContrast(0.5, seed=seed),                 # Contrast adjustment (commented out)\n",
    "            # layers.RandomBrightness(0.1, seed=seed),               # Brightness adjustment (commented out)\n",
    "            # layers.RandomRotation(0.5, fill_mode=\"reflect\", interpolation=\"bilinear\", seed=seed),  # Rotation (commented out)\n",
    "            layers.Resizing(32,32,interpolation=\"lanczos5\")          # Resize to match base model input\n",
    "        ]\n",
    "    )\n",
    "\n",
    "    # Initially freeze the pre-trained model to train only the classifier head\n",
    "    # This prevents destroying pre-trained features during initial training\n",
    "    base_model.trainable = False\n",
    "\n",
    "    # Build the complete model architecture\n",
    "    inputs = keras.Input(shape=input_shape)\n",
    "\n",
    "    # Apply data augmentation to input images\n",
    "    x = data_augmentation(inputs)\n",
    "\n",
    "    # Optional: Add Gaussian noise for regularization (commented out)\n",
    "    # x = keras.layers.GaussianNoise(0.2,seed=seed)(x)\n",
    "\n",
    "    # Pass through the frozen base model in inference mode\n",
    "    # training=False ensures batch normalization layers use learned statistics\n",
    "    x = base_model(x, training=False)\n",
    "    \n",
    "    # Global average pooling to convert feature maps to a single vector\n",
    "    # This reduces spatial dimensions while preserving important features\n",
    "    x = keras.layers.GlobalAveragePooling2D()(x)\n",
    "    \n",
    "    # Optional: Additional dense layers for more complex classification (commented out)\n",
    "    # x = keras.layers.Dense(4096, activation='relu')(x)\n",
    "    # x = keras.layers.Dense(1072, activation='relu')(x)\n",
    "    \n",
    "    # Dropout layer to prevent overfitting\n",
    "    x = keras.layers.Dropout(0.2, seed=seed)(x)\n",
    "\n",
    "    # Final classification layer with 2 units for binary classification\n",
    "    # No activation function here - will use from_logits=True in loss function\n",
    "    outputs = keras.layers.Dense(2)(x)\n",
    "    \n",
    "    # Create the complete model\n",
    "    model = keras.Model(inputs, outputs)\n",
    "\n",
    "    return model, base_model"
   ]
  },
  {
   "cell_type": "code",
   "execution_count": null,
   "metadata": {
    "colab": {
     "base_uri": "https://localhost:8080/"
    },
    "executionInfo": {
     "elapsed": 6841,
     "status": "ok",
     "timestamp": 1699957793896,
     "user": {
      "displayName": "Simone Garbazio",
      "userId": "12530236119643894930"
     },
     "user_tz": -60
    },
    "id": "_1MwUnpnx3HE",
    "outputId": "2bbfb2eb-bd96-4523-ba4e-c0c6b27bb787"
   },
   "outputs": [
    {
     "name": "stdout",
     "output_type": "stream",
     "text": [
      "Model: \"model_3\"\n",
      "_________________________________________________________________\n",
      " Layer (type)                Output Shape              Param #   \n",
      "=================================================================\n",
      " input_11 (InputLayer)       [(None, 96, 96, 3)]       0         \n",
      "                                                                 \n",
      " sequential_3 (Sequential)   (None, 32, 32, 3)         0         \n",
      "                                                                 \n",
      " convnext_small (Functional  (None, 1, 1, 768)         49454688  \n",
      " )                                                               \n",
      "                                                                 \n",
      " global_average_pooling2d_3  (None, 768)               0         \n",
      "  (GlobalAveragePooling2D)                                       \n",
      "                                                                 \n",
      " dropout_3 (Dropout)         (None, 768)               0         \n",
      "                                                                 \n",
      " dense_3 (Dense)             (None, 2)                 1538      \n",
      "                                                                 \n",
      "=================================================================\n",
      "Total params: 49456226 (188.66 MB)\n",
      "Trainable params: 1538 (6.01 KB)\n",
      "Non-trainable params: 49454688 (188.65 MB)\n",
      "_________________________________________________________________\n"
     ]
    }
   ],
   "source": [
    "# Build the ConvNeXt Small model and display its architecture\n",
    "# This creates the model instance and shows the layer structure and parameter count\n",
    "model, base_model = build_ConvNeXtS(input_shape)\n",
    "model.summary()"
   ]
  },
  {
   "cell_type": "markdown",
   "metadata": {
    "id": "ilNR2rysE30D"
   },
   "source": [
    "### Train the model"
   ]
  },
  {
   "cell_type": "code",
   "execution_count": null,
   "metadata": {
    "executionInfo": {
     "elapsed": 420,
     "status": "ok",
     "timestamp": 1699957798721,
     "user": {
      "displayName": "Simone Garbazio",
      "userId": "12530236119643894930"
     },
     "user_tz": -60
    },
    "id": "AQAuvc-MD0Kr"
   },
   "outputs": [],
   "source": [
    "# Define callback functions to optimize training process\n",
    "callbacks=[\n",
    "    # Early stopping: Stop training if validation accuracy doesn't improve for 15 epochs\n",
    "    # This prevents overfitting and saves computational time\n",
    "    tfk.callbacks.EarlyStopping(\n",
    "        monitor='val_binary_accuracy',  # Metric to monitor\n",
    "        patience=15,                    # Number of epochs to wait for improvement\n",
    "        restore_best_weights=True,      # Restore weights from best epoch\n",
    "        mode='max'                      # We want to maximize accuracy\n",
    "    ),\n",
    "    # Learning rate reduction: Reduce learning rate when validation accuracy plateaus\n",
    "    # This helps fine-tune the model when it's close to optimal\n",
    "    tfk.callbacks.ReduceLROnPlateau(\n",
    "        monitor=\"val_binary_accuracy\",  # Metric to monitor\n",
    "        factor=0.1,                     # Factor by which to reduce learning rate\n",
    "        patience=10,                    # Number of epochs to wait before reducing\n",
    "        min_lr=1e-5,                    # Minimum learning rate threshold\n",
    "        mode='max'                      # We want to maximize accuracy\n",
    "    )\n",
    "]"
   ]
  },
  {
   "cell_type": "code",
   "execution_count": null,
   "metadata": {
    "executionInfo": {
     "elapsed": 238,
     "status": "ok",
     "timestamp": 1699957800852,
     "user": {
      "displayName": "Simone Garbazio",
      "userId": "12530236119643894930"
     },
     "user_tz": -60
    },
    "id": "aebdf1d9"
   },
   "outputs": [],
   "source": [
    "# Compile the model with optimizer, loss function, and metrics\n",
    "model.compile(\n",
    "    optimizer=keras.optimizers.Adam(),  # Adam optimizer with default learning rate\n",
    "    # Binary crossentropy loss for binary classification\n",
    "    # from_logits=True because final layer has no activation function\n",
    "    loss=tf.keras.losses.BinaryCrossentropy(from_logits=True),\n",
    "    metrics=[keras.metrics.BinaryAccuracy()]  # Track binary accuracy during training\n",
    ")"
   ]
  },
  {
   "cell_type": "code",
   "execution_count": null,
   "metadata": {
    "colab": {
     "base_uri": "https://localhost:8080/"
    },
    "executionInfo": {
     "elapsed": 376865,
     "status": "ok",
     "timestamp": 1699958180852,
     "user": {
      "displayName": "Simone Garbazio",
      "userId": "12530236119643894930"
     },
     "user_tz": -60
    },
    "id": "ZWwwHObD4rJZ",
    "outputId": "7d16179b-d107-4178-e7b1-40ca13433043"
   },
   "outputs": [
    {
     "name": "stdout",
     "output_type": "stream",
     "text": [
      "Epoch 1/200\n",
      "153/153 [==============================] - 28s 102ms/step - loss: 0.7474 - binary_accuracy: 0.5579 - val_loss: 0.6171 - val_binary_accuracy: 0.6348 - lr: 0.0010\n",
      "Epoch 2/200\n",
      "153/153 [==============================] - 6s 37ms/step - loss: 0.6649 - binary_accuracy: 0.6104 - val_loss: 0.5943 - val_binary_accuracy: 0.6683 - lr: 0.0010\n",
      "Epoch 3/200\n",
      "153/153 [==============================] - 7s 45ms/step - loss: 0.6361 - binary_accuracy: 0.6328 - val_loss: 0.5835 - val_binary_accuracy: 0.6683 - lr: 0.0010\n",
      "Epoch 4/200\n",
      "153/153 [==============================] - 6s 37ms/step - loss: 0.6275 - binary_accuracy: 0.6380 - val_loss: 0.5915 - val_binary_accuracy: 0.6487 - lr: 0.0010\n",
      "Epoch 5/200\n",
      "153/153 [==============================] - 6s 41ms/step - loss: 0.6227 - binary_accuracy: 0.6376 - val_loss: 0.5755 - val_binary_accuracy: 0.6716 - lr: 0.0010\n",
      "Epoch 6/200\n",
      "153/153 [==============================] - 7s 44ms/step - loss: 0.6145 - binary_accuracy: 0.6471 - val_loss: 0.5625 - val_binary_accuracy: 0.6887 - lr: 0.0010\n",
      "Epoch 7/200\n",
      "153/153 [==============================] - 5s 35ms/step - loss: 0.6023 - binary_accuracy: 0.6523 - val_loss: 0.5733 - val_binary_accuracy: 0.6708 - lr: 0.0010\n",
      "Epoch 8/200\n",
      "153/153 [==============================] - 7s 46ms/step - loss: 0.6109 - binary_accuracy: 0.6485 - val_loss: 0.5647 - val_binary_accuracy: 0.6904 - lr: 0.0010\n",
      "Epoch 9/200\n",
      "153/153 [==============================] - 5s 33ms/step - loss: 0.6045 - binary_accuracy: 0.6533 - val_loss: 0.5653 - val_binary_accuracy: 0.6928 - lr: 0.0010\n",
      "Epoch 10/200\n",
      "153/153 [==============================] - 7s 45ms/step - loss: 0.6011 - binary_accuracy: 0.6544 - val_loss: 0.5610 - val_binary_accuracy: 0.6846 - lr: 0.0010\n",
      "Epoch 11/200\n",
      "153/153 [==============================] - 8s 55ms/step - loss: 0.6021 - binary_accuracy: 0.6560 - val_loss: 0.5642 - val_binary_accuracy: 0.6977 - lr: 0.0010\n",
      "Epoch 12/200\n",
      "153/153 [==============================] - 6s 38ms/step - loss: 0.6028 - binary_accuracy: 0.6561 - val_loss: 0.5685 - val_binary_accuracy: 0.6846 - lr: 0.0010\n",
      "Epoch 13/200\n",
      "153/153 [==============================] - 7s 47ms/step - loss: 0.5962 - binary_accuracy: 0.6635 - val_loss: 0.5576 - val_binary_accuracy: 0.6912 - lr: 0.0010\n",
      "Epoch 14/200\n",
      "153/153 [==============================] - 5s 35ms/step - loss: 0.5931 - binary_accuracy: 0.6628 - val_loss: 0.5593 - val_binary_accuracy: 0.6879 - lr: 0.0010\n",
      "Epoch 15/200\n",
      "153/153 [==============================] - 7s 49ms/step - loss: 0.5962 - binary_accuracy: 0.6621 - val_loss: 0.5526 - val_binary_accuracy: 0.6928 - lr: 0.0010\n",
      "Epoch 16/200\n",
      "153/153 [==============================] - 10s 62ms/step - loss: 0.5991 - binary_accuracy: 0.6586 - val_loss: 0.5636 - val_binary_accuracy: 0.6773 - lr: 0.0010\n",
      "Epoch 17/200\n",
      "153/153 [==============================] - 8s 51ms/step - loss: 0.5979 - binary_accuracy: 0.6606 - val_loss: 0.5676 - val_binary_accuracy: 0.6691 - lr: 0.0010\n",
      "Epoch 18/200\n",
      "153/153 [==============================] - 10s 67ms/step - loss: 0.5982 - binary_accuracy: 0.6614 - val_loss: 0.5496 - val_binary_accuracy: 0.6953 - lr: 0.0010\n",
      "Epoch 19/200\n",
      "153/153 [==============================] - 8s 49ms/step - loss: 0.5895 - binary_accuracy: 0.6634 - val_loss: 0.5530 - val_binary_accuracy: 0.6871 - lr: 0.0010\n",
      "Epoch 20/200\n",
      "153/153 [==============================] - 6s 38ms/step - loss: 0.5883 - binary_accuracy: 0.6669 - val_loss: 0.5489 - val_binary_accuracy: 0.6985 - lr: 0.0010\n",
      "Epoch 21/200\n",
      "153/153 [==============================] - 6s 38ms/step - loss: 0.5918 - binary_accuracy: 0.6652 - val_loss: 0.5576 - val_binary_accuracy: 0.6928 - lr: 0.0010\n",
      "Epoch 22/200\n",
      "153/153 [==============================] - 7s 46ms/step - loss: 0.5882 - binary_accuracy: 0.6657 - val_loss: 0.5508 - val_binary_accuracy: 0.6969 - lr: 0.0010\n",
      "Epoch 23/200\n",
      "153/153 [==============================] - 6s 39ms/step - loss: 0.5850 - binary_accuracy: 0.6722 - val_loss: 0.5487 - val_binary_accuracy: 0.6969 - lr: 0.0010\n",
      "Epoch 24/200\n",
      "153/153 [==============================] - 7s 44ms/step - loss: 0.5872 - binary_accuracy: 0.6695 - val_loss: 0.5613 - val_binary_accuracy: 0.6757 - lr: 0.0010\n",
      "Epoch 25/200\n",
      "153/153 [==============================] - 6s 40ms/step - loss: 0.5930 - binary_accuracy: 0.6674 - val_loss: 0.5478 - val_binary_accuracy: 0.6944 - lr: 0.0010\n",
      "Epoch 26/200\n",
      "153/153 [==============================] - 6s 38ms/step - loss: 0.5896 - binary_accuracy: 0.6669 - val_loss: 0.5501 - val_binary_accuracy: 0.6953 - lr: 0.0010\n",
      "Epoch 27/200\n",
      "153/153 [==============================] - 7s 47ms/step - loss: 0.5874 - binary_accuracy: 0.6687 - val_loss: 0.5493 - val_binary_accuracy: 0.7018 - lr: 0.0010\n",
      "Epoch 28/200\n",
      "153/153 [==============================] - 6s 38ms/step - loss: 0.5897 - binary_accuracy: 0.6673 - val_loss: 0.5589 - val_binary_accuracy: 0.6838 - lr: 0.0010\n",
      "Epoch 29/200\n",
      "153/153 [==============================] - 7s 45ms/step - loss: 0.5990 - binary_accuracy: 0.6594 - val_loss: 0.5490 - val_binary_accuracy: 0.7042 - lr: 0.0010\n",
      "Epoch 30/200\n",
      "153/153 [==============================] - 6s 40ms/step - loss: 0.5902 - binary_accuracy: 0.6662 - val_loss: 0.5432 - val_binary_accuracy: 0.6961 - lr: 0.0010\n",
      "Epoch 31/200\n",
      "153/153 [==============================] - 6s 38ms/step - loss: 0.5905 - binary_accuracy: 0.6692 - val_loss: 0.5600 - val_binary_accuracy: 0.6822 - lr: 0.0010\n",
      "Epoch 32/200\n",
      "153/153 [==============================] - 7s 46ms/step - loss: 0.5953 - binary_accuracy: 0.6631 - val_loss: 0.5567 - val_binary_accuracy: 0.6748 - lr: 0.0010\n",
      "Epoch 33/200\n",
      "153/153 [==============================] - 5s 36ms/step - loss: 0.5987 - binary_accuracy: 0.6586 - val_loss: 0.5536 - val_binary_accuracy: 0.6944 - lr: 0.0010\n",
      "Epoch 34/200\n",
      "153/153 [==============================] - 8s 52ms/step - loss: 0.6003 - binary_accuracy: 0.6594 - val_loss: 0.5468 - val_binary_accuracy: 0.7010 - lr: 0.0010\n",
      "Epoch 35/200\n",
      "153/153 [==============================] - 6s 38ms/step - loss: 0.5887 - binary_accuracy: 0.6637 - val_loss: 0.5513 - val_binary_accuracy: 0.6920 - lr: 0.0010\n",
      "Epoch 36/200\n",
      "153/153 [==============================] - 6s 39ms/step - loss: 0.5945 - binary_accuracy: 0.6685 - val_loss: 0.5516 - val_binary_accuracy: 0.6977 - lr: 0.0010\n",
      "Epoch 37/200\n",
      "153/153 [==============================] - 6s 42ms/step - loss: 0.5880 - binary_accuracy: 0.6678 - val_loss: 0.5676 - val_binary_accuracy: 0.6993 - lr: 0.0010\n",
      "Epoch 38/200\n",
      "153/153 [==============================] - 5s 36ms/step - loss: 0.5928 - binary_accuracy: 0.6658 - val_loss: 0.5477 - val_binary_accuracy: 0.7042 - lr: 0.0010\n",
      "Epoch 39/200\n",
      "153/153 [==============================] - 7s 45ms/step - loss: 0.5836 - binary_accuracy: 0.6743 - val_loss: 0.5506 - val_binary_accuracy: 0.7124 - lr: 0.0010\n",
      "Epoch 40/200\n",
      "153/153 [==============================] - 6s 37ms/step - loss: 0.5887 - binary_accuracy: 0.6664 - val_loss: 0.5669 - val_binary_accuracy: 0.6822 - lr: 0.0010\n",
      "Epoch 41/200\n",
      "153/153 [==============================] - 6s 42ms/step - loss: 0.5905 - binary_accuracy: 0.6687 - val_loss: 0.5525 - val_binary_accuracy: 0.7018 - lr: 0.0010\n",
      "Epoch 42/200\n",
      "153/153 [==============================] - 8s 55ms/step - loss: 0.5930 - binary_accuracy: 0.6704 - val_loss: 0.5514 - val_binary_accuracy: 0.7002 - lr: 0.0010\n",
      "Epoch 43/200\n",
      "153/153 [==============================] - 6s 38ms/step - loss: 0.5852 - binary_accuracy: 0.6702 - val_loss: 0.5577 - val_binary_accuracy: 0.6912 - lr: 0.0010\n",
      "Epoch 44/200\n",
      "153/153 [==============================] - 6s 40ms/step - loss: 0.5914 - binary_accuracy: 0.6682 - val_loss: 0.5612 - val_binary_accuracy: 0.6708 - lr: 0.0010\n",
      "Epoch 45/200\n",
      "153/153 [==============================] - 6s 41ms/step - loss: 0.5902 - binary_accuracy: 0.6673 - val_loss: 0.5461 - val_binary_accuracy: 0.6969 - lr: 0.0010\n",
      "Epoch 46/200\n",
      "153/153 [==============================] - 6s 38ms/step - loss: 0.5950 - binary_accuracy: 0.6653 - val_loss: 0.5565 - val_binary_accuracy: 0.7026 - lr: 0.0010\n",
      "Epoch 47/200\n",
      "153/153 [==============================] - 8s 53ms/step - loss: 0.5979 - binary_accuracy: 0.6630 - val_loss: 0.5528 - val_binary_accuracy: 0.7067 - lr: 0.0010\n",
      "Epoch 48/200\n",
      "153/153 [==============================] - 6s 39ms/step - loss: 0.5872 - binary_accuracy: 0.6720 - val_loss: 0.5483 - val_binary_accuracy: 0.6985 - lr: 0.0010\n",
      "Epoch 49/200\n",
      "153/153 [==============================] - 6s 42ms/step - loss: 0.5865 - binary_accuracy: 0.6734 - val_loss: 0.5850 - val_binary_accuracy: 0.6601 - lr: 0.0010\n",
      "Epoch 50/200\n",
      "153/153 [==============================] - 6s 42ms/step - loss: 0.5830 - binary_accuracy: 0.6720 - val_loss: 0.5412 - val_binary_accuracy: 0.7034 - lr: 1.0000e-04\n",
      "Epoch 51/200\n",
      "153/153 [==============================] - 5s 36ms/step - loss: 0.5766 - binary_accuracy: 0.6759 - val_loss: 0.5428 - val_binary_accuracy: 0.7002 - lr: 1.0000e-04\n",
      "Epoch 52/200\n",
      "153/153 [==============================] - 7s 47ms/step - loss: 0.5819 - binary_accuracy: 0.6741 - val_loss: 0.5426 - val_binary_accuracy: 0.7034 - lr: 1.0000e-04\n",
      "Epoch 53/200\n",
      "153/153 [==============================] - 6s 36ms/step - loss: 0.5778 - binary_accuracy: 0.6737 - val_loss: 0.5423 - val_binary_accuracy: 0.7026 - lr: 1.0000e-04\n",
      "Epoch 54/200\n",
      "153/153 [==============================] - 6s 42ms/step - loss: 0.5761 - binary_accuracy: 0.6765 - val_loss: 0.5426 - val_binary_accuracy: 0.6993 - lr: 1.0000e-04\n"
     ]
    }
   ],
   "source": [
    "# First training phase: Train only the classifier head with frozen base model\n",
    "# This allows the new classification layers to learn appropriate weights\n",
    "# before fine-tuning the pre-trained features\n",
    "epochs = 200\n",
    "\n",
    "baseline_history = model.fit(\n",
    "    X_train,                        # Training images\n",
    "    y_train,                        # Training labels\n",
    "    validation_data=(X_val,y_val),  # Validation data for monitoring\n",
    "    epochs=epochs,                  # Maximum number of epochs\n",
    "    batch_size=batch_size,          # Number of samples per batch\n",
    "    verbose=1,                      # Print progress during training\n",
    "    callbacks=callbacks             # Apply early stopping and learning rate reduction\n",
    ").history"
   ]
  },
  {
   "cell_type": "code",
   "execution_count": null,
   "metadata": {
    "colab": {
     "base_uri": "https://localhost:8080/"
    },
    "executionInfo": {
     "elapsed": 285,
     "status": "ok",
     "timestamp": 1699958207272,
     "user": {
      "displayName": "Simone Garbazio",
      "userId": "12530236119643894930"
     },
     "user_tz": -60
    },
    "id": "Rj1LlSlRd46S",
    "outputId": "de20f5b8-6acc-48b5-8e8a-8e83d524d1e4"
   },
   "outputs": [
    {
     "name": "stdout",
     "output_type": "stream",
     "text": [
      "Model: \"model_3\"\n",
      "_________________________________________________________________\n",
      " Layer (type)                Output Shape              Param #   \n",
      "=================================================================\n",
      " input_11 (InputLayer)       [(None, 96, 96, 3)]       0         \n",
      "                                                                 \n",
      " sequential_3 (Sequential)   (None, 32, 32, 3)         0         \n",
      "                                                                 \n",
      " convnext_small (Functional  (None, 1, 1, 768)         49454688  \n",
      " )                                                               \n",
      "                                                                 \n",
      " global_average_pooling2d_3  (None, 768)               0         \n",
      "  (GlobalAveragePooling2D)                                       \n",
      "                                                                 \n",
      " dropout_3 (Dropout)         (None, 768)               0         \n",
      "                                                                 \n",
      " dense_3 (Dense)             (None, 2)                 1538      \n",
      "                                                                 \n",
      "=================================================================\n",
      "Total params: 49456226 (188.66 MB)\n",
      "Trainable params: 49456226 (188.66 MB)\n",
      "Non-trainable params: 0 (0.00 Byte)\n",
      "_________________________________________________________________\n"
     ]
    }
   ],
   "source": [
    "# Unfreeze the base model to enable fine-tuning\n",
    "# This allows all layers to be updated during training for better performance\n",
    "base_model.trainable = True\n",
    "\n",
    "# Display the model summary to see all trainable parameters\n",
    "model.summary()"
   ]
  },
  {
   "cell_type": "code",
   "execution_count": null,
   "metadata": {
    "executionInfo": {
     "elapsed": 238,
     "status": "ok",
     "timestamp": 1699958214477,
     "user": {
      "displayName": "Simone Garbazio",
      "userId": "12530236119643894930"
     },
     "user_tz": -60
    },
    "id": "df9r65Lnd-SG"
   },
   "outputs": [],
   "source": [
    "# Recompile the model with a much lower learning rate for fine-tuning\n",
    "# Lower learning rate prevents destroying pre-trained features during fine-tuning\n",
    "model.compile(\n",
    "    optimizer=keras.optimizers.Adam(1e-5),  # Very low learning rate for fine-tuning\n",
    "    loss=keras.losses.BinaryCrossentropy(from_logits=True),  # Same loss function\n",
    "    metrics=[keras.metrics.BinaryAccuracy()],  # Same metrics\n",
    ")"
   ]
  },
  {
   "cell_type": "code",
   "execution_count": null,
   "metadata": {
    "id": "9VUbaBCpY2YF"
   },
   "outputs": [],
   "source": [
    "# Important Note: You should freeze the batch normalization layers during fine-tuning!\n",
    "# Batch normalization layers should remain frozen to preserve ImageNet statistics\n",
    "# This is a common best practice in transfer learning to maintain stability"
   ]
  },
  {
   "cell_type": "code",
   "execution_count": null,
   "metadata": {
    "colab": {
     "base_uri": "https://localhost:8080/"
    },
    "executionInfo": {
     "elapsed": 241238,
     "status": "ok",
     "timestamp": 1699958458003,
     "user": {
      "displayName": "Simone Garbazio",
      "userId": "12530236119643894930"
     },
     "user_tz": -60
    },
    "id": "IgkPKjmgeXxz",
    "outputId": "4532a4a9-fb98-4be4-fbd5-beddc4472e3b"
   },
   "outputs": [
    {
     "name": "stdout",
     "output_type": "stream",
     "text": [
      "Epoch 1/10\n",
      "153/153 [==============================] - 84s 137ms/step - loss: 0.5756 - binary_accuracy: 0.6808 - val_loss: 0.5232 - val_binary_accuracy: 0.7320 - lr: 1.0000e-05\n",
      "Epoch 2/10\n",
      "153/153 [==============================] - 16s 103ms/step - loss: 0.5417 - binary_accuracy: 0.7060 - val_loss: 0.5153 - val_binary_accuracy: 0.7320 - lr: 1.0000e-05\n",
      "Epoch 3/10\n",
      "153/153 [==============================] - 16s 105ms/step - loss: 0.5265 - binary_accuracy: 0.7260 - val_loss: 0.5039 - val_binary_accuracy: 0.7443 - lr: 1.0000e-05\n",
      "Epoch 4/10\n",
      "153/153 [==============================] - 17s 114ms/step - loss: 0.4915 - binary_accuracy: 0.7474 - val_loss: 0.5027 - val_binary_accuracy: 0.7516 - lr: 1.0000e-05\n",
      "Epoch 5/10\n",
      "153/153 [==============================] - 16s 105ms/step - loss: 0.4776 - binary_accuracy: 0.7548 - val_loss: 0.5071 - val_binary_accuracy: 0.7516 - lr: 1.0000e-05\n",
      "Epoch 6/10\n",
      "153/153 [==============================] - 16s 104ms/step - loss: 0.4639 - binary_accuracy: 0.7679 - val_loss: 0.4971 - val_binary_accuracy: 0.7590 - lr: 1.0000e-05\n",
      "Epoch 7/10\n",
      "153/153 [==============================] - 16s 104ms/step - loss: 0.4423 - binary_accuracy: 0.7784 - val_loss: 0.5024 - val_binary_accuracy: 0.7574 - lr: 1.0000e-05\n",
      "Epoch 8/10\n",
      "153/153 [==============================] - 16s 103ms/step - loss: 0.4248 - binary_accuracy: 0.7924 - val_loss: 0.5044 - val_binary_accuracy: 0.7516 - lr: 1.0000e-05\n",
      "Epoch 9/10\n",
      "153/153 [==============================] - 16s 105ms/step - loss: 0.4022 - binary_accuracy: 0.8045 - val_loss: 0.5093 - val_binary_accuracy: 0.7639 - lr: 1.0000e-05\n",
      "Epoch 10/10\n",
      "153/153 [==============================] - 16s 105ms/step - loss: 0.3811 - binary_accuracy: 0.8195 - val_loss: 0.5236 - val_binary_accuracy: 0.7533 - lr: 1.0000e-05\n"
     ]
    }
   ],
   "source": [
    "# Second training phase: Fine-tune the entire model with unfrozen base\n",
    "# Use fewer epochs and smaller batch size for careful fine-tuning\n",
    "epochs = 10\n",
    "batch_size = 32\n",
    "\n",
    "baseline_history = model.fit(\n",
    "    X_train,                        # Training images\n",
    "    y_train,                        # Training labels\n",
    "    validation_data=(X_val,y_val),  # Validation data\n",
    "    epochs=epochs,                  # Fewer epochs for fine-tuning\n",
    "    batch_size=batch_size,          # Same batch size\n",
    "    verbose=1,                      # Print training progress\n",
    "    callbacks=callbacks             # Continue using callbacks\n",
    ").history"
   ]
  },
  {
   "cell_type": "code",
   "execution_count": null,
   "metadata": {
    "colab": {
     "base_uri": "https://localhost:8080/"
    },
    "executionInfo": {
     "elapsed": 36,
     "status": "ok",
     "timestamp": 1699957642960,
     "user": {
      "displayName": "Simone Garbazio",
      "userId": "12530236119643894930"
     },
     "user_tz": -60
    },
    "id": "xizvUrG1gdMP",
    "outputId": "5246a45a-5632-405a-c2fb-a772a5587670"
   },
   "outputs": [
    {
     "name": "stdout",
     "output_type": "stream",
     "text": [
      "295\n"
     ]
    }
   ],
   "source": [
    "# Check the total number of layers in the base model\n",
    "# This is useful for understanding model complexity and for selective layer freezing\n",
    "print(len(base_model.layers))"
   ]
  },
  {
   "cell_type": "code",
   "execution_count": null,
   "metadata": {
    "executionInfo": {
     "elapsed": 8,
     "status": "ok",
     "timestamp": 1699957642962,
     "user": {
      "displayName": "Simone Garbazio",
      "userId": "12530236119643894930"
     },
     "user_tz": -60
    },
    "id": "TrasXwPsF1zi"
   },
   "outputs": [],
   "source": [
    "# Optional: Selective layer freezing approach (currently commented out)\n",
    "# This code demonstrates how to freeze only the first N layers while allowing\n",
    "# the deeper layers to be fine-tuned. This can be useful for gradual unfreezing.\n",
    "\n",
    "# Freeze first 300 layers at a time and retrain\n",
    "# N = 300\n",
    "# for i, layer in enumerate(base_model.layers[:N]):\n",
    "#   layer.trainable=False\n",
    "\n",
    "# Print layer information to see which layers are trainable\n",
    "# for i, layer in enumerate(base_model.layers):\n",
    "#   print(i, layer.name, layer.trainable)\n",
    "# model.summary()"
   ]
  },
  {
   "cell_type": "code",
   "execution_count": null,
   "metadata": {
    "id": "8fEjRzJKgvb-"
   },
   "outputs": [],
   "source": [
    "# Third training phase: Additional fine-tuning with even fewer epochs\n",
    "# This provides extra refinement of the model weights\n",
    "epochs = 5\n",
    "batch_size = 32\n",
    "\n",
    "baseline_history = model.fit(\n",
    "    X_train,                        # Training images\n",
    "    y_train,                        # Training labels\n",
    "    validation_data=(X_val,y_val),  # Validation data\n",
    "    epochs=epochs,                  # Very few epochs for final refinement\n",
    "    batch_size=batch_size,          # Same batch size\n",
    "    verbose=1,                      # Print training progress\n",
    "    callbacks=callbacks             # Continue using callbacks\n",
    ").history"
   ]
  },
  {
   "cell_type": "code",
   "execution_count": null,
   "metadata": {
    "executionInfo": {
     "elapsed": 14,
     "status": "aborted",
     "timestamp": 1699957649199,
     "user": {
      "displayName": "Simone Garbazio",
      "userId": "12530236119643894930"
     },
     "user_tz": -60
    },
    "id": "NJ74GebUGxr_"
   },
   "outputs": [],
   "source": [
    "# Save the trained model for future use (currently commented out)\n",
    "# Uncomment this line to save the model after training is complete\n",
    "#model.save('EfficientNetV2S_New2')"
   ]
  },
  {
   "cell_type": "markdown",
   "metadata": {
    "id": "uvtlYna2HWjC"
   },
   "source": [
    "### Performances on the Test Set"
   ]
  },
  {
   "cell_type": "code",
   "execution_count": null,
   "metadata": {
    "colab": {
     "base_uri": "https://localhost:8080/"
    },
    "executionInfo": {
     "elapsed": 5493,
     "status": "ok",
     "timestamp": 1699958495560,
     "user": {
      "displayName": "Simone Garbazio",
      "userId": "12530236119643894930"
     },
     "user_tz": -60
    },
    "id": "Qydpk62qHbHH",
    "outputId": "1e08a3be-d1f0-49e9-c4d7-18586b9cc25c"
   },
   "outputs": [
    {
     "name": "stdout",
     "output_type": "stream",
     "text": [
      "Predictions Shape: (612, 2)\n"
     ]
    }
   ],
   "source": [
    "# Generate predictions on the test set to evaluate final model performance\n",
    "\n",
    "# Optional: Load separate test dataset (currently commented out)\n",
    "# This code shows how to load a different test set if needed\n",
    "#datatest = np.load('NewDataSet_test.npz', allow_pickle=True)\n",
    "#X_test = datatest['data']\n",
    "#y_test = datatest['labels']\n",
    "#y_test = np.expand_dims(y_test, axis=-1)\n",
    "#print(\"New labels shape (test):\", y_test.shape)\n",
    "\n",
    "# Generate predictions for the entire test set\n",
    "# verbose=0 suppresses progress output during prediction\n",
    "predictions = model.predict(X_test, verbose=0)\n",
    "\n",
    "# Display the shape of predictions to verify output format\n",
    "print(\"Predictions Shape:\", predictions.shape)"
   ]
  },
  {
   "cell_type": "code",
   "execution_count": null,
   "metadata": {
    "executionInfo": {
     "elapsed": 15,
     "status": "aborted",
     "timestamp": 1699957649201,
     "user": {
      "displayName": "Simone Garbazio",
      "userId": "12530236119643894930"
     },
     "user_tz": -60
    },
    "id": "Ggwqhi_OQv5y"
   },
   "outputs": [],
   "source": [
    "# Display the raw prediction outputs\n",
    "# These are logits (unnormalized probabilities) for each class\n",
    "# Shape should be (n_samples, 2) for binary classification\n",
    "predictions"
   ]
  },
  {
   "cell_type": "code",
   "execution_count": null,
   "metadata": {
    "executionInfo": {
     "elapsed": 18,
     "status": "aborted",
     "timestamp": 1699957649204,
     "user": {
      "displayName": "Simone Garbazio",
      "userId": "12530236119643894930"
     },
     "user_tz": -60
    },
    "id": "Ei4nldL_NZLI"
   },
   "outputs": [],
   "source": [
    "# Optional: Convert logits to class predictions (currently commented out)\n",
    "# This would convert the logit outputs to discrete class predictions (0 or 1)\n",
    "# by taking the argmax along the class dimension\n",
    "#predictions = tf.argmax(predictions, axis=-1)\n",
    "#predictions"
   ]
  },
  {
   "cell_type": "code",
   "execution_count": null,
   "metadata": {
    "executionInfo": {
     "elapsed": 18,
     "status": "aborted",
     "timestamp": 1699957649205,
     "user": {
      "displayName": "Simone Garbazio",
      "userId": "12530236119643894930"
     },
     "user_tz": -60
    },
    "id": "Iy1VHbV9LLh4"
   },
   "outputs": [],
   "source": [
    "# Optional: Delete the model to free up memory (currently commented out)\n",
    "# Uncomment this line if you need to free up GPU/RAM memory after training\n",
    "# del model"
   ]
  },
  {
   "cell_type": "code",
   "execution_count": null,
   "metadata": {
    "colab": {
     "base_uri": "https://localhost:8080/",
     "height": 782
    },
    "executionInfo": {
     "elapsed": 827,
     "status": "ok",
     "timestamp": 1699958501197,
     "user": {
      "displayName": "Simone Garbazio",
      "userId": "12530236119643894930"
     },
     "user_tz": -60
    },
    "id": "mRHqZEdwHfdK",
    "outputId": "aac51209-4e7c-4336-decb-ec9e63d04b7e"
   },
   "outputs": [
    {
     "name": "stdout",
     "output_type": "stream",
     "text": [
      "Accuracy: 0.732\n",
      "Precision: 0.7321\n",
      "Recall: 0.732\n",
      "F1: 0.732\n"
     ]
    },
    {
     "data": {
      "image/png": "[encoded data removed]",
      "text/plain": [
       "<Figure size 1000x800 with 2 Axes>"
      ]
     },
     "metadata": {},
     "output_type": "display_data"
    }
   ],
   "source": [
    "# Calculate comprehensive evaluation metrics and visualize results\n",
    "\n",
    "# Convert one-hot encoded labels and predictions to class indices for metric calculation\n",
    "# np.argmax finds the index of the maximum value (predicted/true class)\n",
    "true_labels = np.argmax(y_test, axis=-1)      # Convert one-hot to class indices\n",
    "pred_labels = np.argmax(predictions, axis=-1)  # Convert logits to class indices\n",
    "\n",
    "# Compute the confusion matrix to understand classification errors\n",
    "cm = confusion_matrix(true_labels, pred_labels)\n",
    "\n",
    "# Calculate key classification metrics\n",
    "accuracy = accuracy_score(true_labels, pred_labels)  # Overall correctness\n",
    "precision = precision_score(true_labels, pred_labels, average='macro')  # Precision per class, averaged\n",
    "recall = recall_score(true_labels, pred_labels, average='macro')     # Recall per class, averaged\n",
    "f1 = f1_score(true_labels, pred_labels, average='macro')             # F1-score per class, averaged\n",
    "\n",
    "# Display the computed metrics with 4 decimal precision\n",
    "print('Accuracy:', accuracy.round(4))      # Fraction of correct predictions\n",
    "print('Precision:', precision.round(4))    # True positives / (True positives + False positives)\n",
    "print('Recall:', recall.round(4))          # True positives / (True positives + False negatives)\n",
    "print('F1:', f1.round(4))                  # Harmonic mean of precision and recall\n",
    "\n",
    "# Create a visualization of the confusion matrix\n",
    "plt.figure(figsize=(10, 8))\n",
    "labels = {0:'healthy', 1:'unhealthy'}  # Define class labels for display\n",
    "\n",
    "# Create heatmap of confusion matrix\n",
    "# .T transposes the matrix for conventional display (predicted on y-axis, true on x-axis)\n",
    "sns.heatmap(cm.T, \n",
    "           xticklabels=list(labels.values()),  # True class labels on x-axis\n",
    "           yticklabels=list(labels.values()),  # Predicted class labels on y-axis\n",
    "           cmap='Blues')                       # Blue color scheme\n",
    "\n",
    "plt.xlabel('True labels')      # Label for x-axis\n",
    "plt.ylabel('Predicted labels') # Label for y-axis\n",
    "plt.show()                     # Display the plot"
   ]
  }
 ],
 "metadata": {
  "accelerator": "GPU",
  "colab": {
   "provenance": [
    {
     "file_id": "1mHqs_1LrrXgI1QEQGshMkIHLw08L23Bd",
     "timestamp": 1699700131483
    },
    {
     "file_id": "1YDua__0ZeccPWt8YIFufccHghLp0NyXb",
     "timestamp": 1699545256944
    },
    {
     "file_id": "1ZgLx90Cfy5_0obO95aogrFG6THEyIqlS",
     "timestamp": 1699429849311
    }
   ]
  },
  "kernelspec": {
   "display_name": "Python 3",
   "name": "python3"
  },
  "language_info": {
   "name": "python"
  }
 },
 "nbformat": 4,
 "nbformat_minor": 0
}
